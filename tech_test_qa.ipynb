{
 "cells": [
  {
   "cell_type": "code",
   "execution_count": 1,
   "metadata": {},
   "outputs": [],
   "source": [
    "import psycopg2\n",
    "from sshtunnel import SSHTunnelForwarder\n",
    "import pandas as pd"
   ]
  },
  {
   "cell_type": "markdown",
   "metadata": {},
   "source": [
    "# 1. Check table trades"
   ]
  },
  {
   "cell_type": "code",
   "execution_count": 7,
   "metadata": {},
   "outputs": [
    {
     "name": "stdout",
     "output_type": "stream",
     "text": [
      "close connection\n"
     ]
    },
    {
     "data": {
      "text/html": [
       "<div>\n",
       "<style scoped>\n",
       "    .dataframe tbody tr th:only-of-type {\n",
       "        vertical-align: middle;\n",
       "    }\n",
       "\n",
       "    .dataframe tbody tr th {\n",
       "        vertical-align: top;\n",
       "    }\n",
       "\n",
       "    .dataframe thead th {\n",
       "        text-align: right;\n",
       "    }\n",
       "</style>\n",
       "<table border=\"1\" class=\"dataframe\">\n",
       "  <thead>\n",
       "    <tr style=\"text-align: right;\">\n",
       "      <th></th>\n",
       "      <th>login_hash</th>\n",
       "      <th>ticket_hash</th>\n",
       "      <th>server_hash</th>\n",
       "      <th>symbol</th>\n",
       "      <th>digits</th>\n",
       "      <th>cmd</th>\n",
       "      <th>volume</th>\n",
       "      <th>open_time</th>\n",
       "      <th>open_price</th>\n",
       "      <th>close_time</th>\n",
       "      <th>contractsize</th>\n",
       "    </tr>\n",
       "  </thead>\n",
       "  <tbody>\n",
       "    <tr>\n",
       "      <th>0</th>\n",
       "      <td>0DF500A57244E5B1670277767BEBB554</td>\n",
       "      <td>B321DC57F3B410507B986DD8962F8B1C</td>\n",
       "      <td>2F1CA40D76D7E6165DBA3924CE0D3B5C</td>\n",
       "      <td>EURUSD</td>\n",
       "      <td>5</td>\n",
       "      <td>1</td>\n",
       "      <td>5</td>\n",
       "      <td>2020-08-19 12:19:11</td>\n",
       "      <td>1.19459</td>\n",
       "      <td>2020-08-19 12:48:09</td>\n",
       "      <td>100000.0</td>\n",
       "    </tr>\n",
       "    <tr>\n",
       "      <th>1</th>\n",
       "      <td>6D66E192834605522190E51BF226FF5B</td>\n",
       "      <td>F68DA930EE1129D94EDFA02EBAF9E7B4</td>\n",
       "      <td>2F1CA40D76D7E6165DBA3924CE0D3B5C</td>\n",
       "      <td>XAUUSD</td>\n",
       "      <td>2</td>\n",
       "      <td>1</td>\n",
       "      <td>1</td>\n",
       "      <td>2020-08-28 03:09:02</td>\n",
       "      <td>1925.48000</td>\n",
       "      <td>2020-08-28 06:03:45</td>\n",
       "      <td>100.0</td>\n",
       "    </tr>\n",
       "    <tr>\n",
       "      <th>2</th>\n",
       "      <td>04852EC1A7D9FB8A291A24DDCE8C62B9</td>\n",
       "      <td>E351B480079ADEC7F6E6BE3ACEEA6EDF</td>\n",
       "      <td>2F1CA40D76D7E6165DBA3924CE0D3B5C</td>\n",
       "      <td>EURGBP</td>\n",
       "      <td>5</td>\n",
       "      <td>0</td>\n",
       "      <td>10</td>\n",
       "      <td>2020-08-25 13:47:34</td>\n",
       "      <td>0.90157</td>\n",
       "      <td>2020-09-08 12:20:43</td>\n",
       "      <td>100000.0</td>\n",
       "    </tr>\n",
       "    <tr>\n",
       "      <th>3</th>\n",
       "      <td>E62BE617269467931F2239C2771605C2</td>\n",
       "      <td>363723A73A926A7434E815F2F1D5ED61</td>\n",
       "      <td>2F1CA40D76D7E6165DBA3924CE0D3B5C</td>\n",
       "      <td>XAUUSD</td>\n",
       "      <td>2</td>\n",
       "      <td>1</td>\n",
       "      <td>10</td>\n",
       "      <td>2020-08-28 02:46:57</td>\n",
       "      <td>1926.68000</td>\n",
       "      <td>2020-08-28 02:51:13</td>\n",
       "      <td>100.0</td>\n",
       "    </tr>\n",
       "    <tr>\n",
       "      <th>4</th>\n",
       "      <td>54D2B4C5ECAE5FBC316524329846F81E</td>\n",
       "      <td>9CD4110328DA4CD71FFE0BE486D51094</td>\n",
       "      <td>2F1CA40D76D7E6165DBA3924CE0D3B5C</td>\n",
       "      <td>XAUUSD</td>\n",
       "      <td>2</td>\n",
       "      <td>1</td>\n",
       "      <td>85</td>\n",
       "      <td>2020-08-11 09:27:28</td>\n",
       "      <td>1999.12000</td>\n",
       "      <td>2020-08-11 09:27:54</td>\n",
       "      <td>100.0</td>\n",
       "    </tr>\n",
       "  </tbody>\n",
       "</table>\n",
       "</div>"
      ],
      "text/plain": [
       "                         login_hash                       ticket_hash  \\\n",
       "0  0DF500A57244E5B1670277767BEBB554  B321DC57F3B410507B986DD8962F8B1C   \n",
       "1  6D66E192834605522190E51BF226FF5B  F68DA930EE1129D94EDFA02EBAF9E7B4   \n",
       "2  04852EC1A7D9FB8A291A24DDCE8C62B9  E351B480079ADEC7F6E6BE3ACEEA6EDF   \n",
       "3  E62BE617269467931F2239C2771605C2  363723A73A926A7434E815F2F1D5ED61   \n",
       "4  54D2B4C5ECAE5FBC316524329846F81E  9CD4110328DA4CD71FFE0BE486D51094   \n",
       "\n",
       "                        server_hash  symbol  digits  cmd  volume  \\\n",
       "0  2F1CA40D76D7E6165DBA3924CE0D3B5C  EURUSD       5    1       5   \n",
       "1  2F1CA40D76D7E6165DBA3924CE0D3B5C  XAUUSD       2    1       1   \n",
       "2  2F1CA40D76D7E6165DBA3924CE0D3B5C  EURGBP       5    0      10   \n",
       "3  2F1CA40D76D7E6165DBA3924CE0D3B5C  XAUUSD       2    1      10   \n",
       "4  2F1CA40D76D7E6165DBA3924CE0D3B5C  XAUUSD       2    1      85   \n",
       "\n",
       "            open_time  open_price          close_time  contractsize  \n",
       "0 2020-08-19 12:19:11     1.19459 2020-08-19 12:48:09      100000.0  \n",
       "1 2020-08-28 03:09:02  1925.48000 2020-08-28 06:03:45         100.0  \n",
       "2 2020-08-25 13:47:34     0.90157 2020-09-08 12:20:43      100000.0  \n",
       "3 2020-08-28 02:46:57  1926.68000 2020-08-28 02:51:13         100.0  \n",
       "4 2020-08-11 09:27:28  1999.12000 2020-08-11 09:27:54         100.0  "
      ]
     },
     "execution_count": 7,
     "metadata": {},
     "output_type": "execute_result"
    }
   ],
   "source": [
    "params={\n",
    "        'database': 'technical_test',\n",
    "        'user': 'candidate',\n",
    "        'password': 'NW337AkNQH76veGc',\n",
    "        'host': 'technical-test-1.cncti7m4kr9f.ap-south-1.rds.amazonaws.com',\n",
    "        'port': 5432\n",
    "}\n",
    "conn = psycopg2.connect(**params)\n",
    "cursor = conn.cursor()\n",
    "trades = pd.read_sql_query('SELECT * FROM trades', conn)\n",
    "    \n",
    "conn.close()\n",
    "print('close connection')\n",
    "trades.head()"
   ]
  },
  {
   "cell_type": "markdown",
   "metadata": {},
   "source": [
    "## (1). Check column login_hash\n",
    "\n",
    "    Findings: 1. All values for column login_hash have same length of 32 and there are no null values exist.\n",
    "    \n",
    "    Conclusion: No issues found for column login_hash."
   ]
  },
  {
   "cell_type": "code",
   "execution_count": 10,
   "metadata": {},
   "outputs": [
    {
     "name": "stdout",
     "output_type": "stream",
     "text": [
      "Minimal length of login_hash is: 32\n",
      "Maximal length of login_hash is: 32\n"
     ]
    }
   ],
   "source": [
    "# Check minimum length and maximal length of value for column login_hash\n",
    "min_length_login_hash = trades['login_hash'].str.len().min()\n",
    "max_length_login_hash = trades['login_hash'].str.len().max()\n",
    "print('Minimal length of login_hash is: ' + str(min_length_login_hash))\n",
    "print('Maximal length of login_hash is: ' + str(max_length_login_hash))"
   ]
  },
  {
   "cell_type": "code",
   "execution_count": 16,
   "metadata": {},
   "outputs": [
    {
     "name": "stdout",
     "output_type": "stream",
     "text": [
      "If null value exists on column login_hash: False\n"
     ]
    }
   ],
   "source": [
    "# Check if null value exists on column login_hash\n",
    "ifNullExistsOnLogin_hash = trades['login_hash'].isnull().any();\n",
    "print('If null value exists on column login_hash: ' + str(ifNullExistsOnLogin_hash))"
   ]
  },
  {
   "cell_type": "markdown",
   "metadata": {},
   "source": [
    "## (2). Check column ticket_hash\n",
    "\n",
    "       Findings: 1. All values for column ticket_hash have the same length of 32 and no null values exist.\n",
    "       \n",
    "       Conclusion: No issues found for column ticket_hash."
   ]
  },
  {
   "cell_type": "code",
   "execution_count": 17,
   "metadata": {},
   "outputs": [
    {
     "name": "stdout",
     "output_type": "stream",
     "text": [
      "Minimal length of ticket_hash is: 32\n",
      "Maximal length of ticket_hash is: 32\n"
     ]
    }
   ],
   "source": [
    "# Check minimum length and maximal length of value for column ticket_hash\n",
    "min_length_ticket_hash = trades['ticket_hash'].str.len().min()\n",
    "max_length_ticket_hash = trades['ticket_hash'].str.len().max()\n",
    "print('Minimal length of ticket_hash is: ' + str(min_length_ticket_hash))\n",
    "print('Maximal length of ticket_hash is: ' + str(max_length_ticket_hash))"
   ]
  },
  {
   "cell_type": "code",
   "execution_count": 18,
   "metadata": {},
   "outputs": [
    {
     "name": "stdout",
     "output_type": "stream",
     "text": [
      "If null value exists on column ticket_hash: False\n"
     ]
    }
   ],
   "source": [
    "# Check if null value exists on column ticket_hash\n",
    "ifNullExistsOnTicket_hash = trades['ticket_hash'].isnull().any();\n",
    "print('If null value exists on column ticket_hash: ' + str(ifNullExistsOnTicket_hash))"
   ]
  },
  {
   "cell_type": "markdown",
   "metadata": {},
   "source": [
    "## (3). Check column server_hash\n",
    "\n",
    "      Findings: 1. All values for column server_hash have the same length of 32 and no null values exist.\n",
    "        \n",
    "      Conclusion: No issues found for column server_hash."
   ]
  },
  {
   "cell_type": "code",
   "execution_count": 19,
   "metadata": {},
   "outputs": [
    {
     "name": "stdout",
     "output_type": "stream",
     "text": [
      "Minimal length of server_hash is: 32\n",
      "Maximal length of server_hash is: 32\n"
     ]
    }
   ],
   "source": [
    "# Check minimum length and maximal length of value for column server_hash\n",
    "min_length_server_hash = trades['server_hash'].str.len().min()\n",
    "max_length_server_hash = trades['server_hash'].str.len().max()\n",
    "print('Minimal length of server_hash is: ' + str(min_length_server_hash))\n",
    "print('Maximal length of server_hash is: ' + str(max_length_server_hash))"
   ]
  },
  {
   "cell_type": "code",
   "execution_count": 20,
   "metadata": {},
   "outputs": [
    {
     "name": "stdout",
     "output_type": "stream",
     "text": [
      "If null value exists on column server_hash: False\n"
     ]
    }
   ],
   "source": [
    "# Check if null value exists on column server_hash\n",
    "ifNullExistsOnServer_hash = trades['server_hash'].isnull().any();\n",
    "print('If null value exists on column server_hash: ' + str(ifNullExistsOnServer_hash))"
   ]
  },
  {
   "cell_type": "markdown",
   "metadata": {},
   "source": [
    "## (4). Check column symbol\n",
    "\n",
    "     Findings: 1. No null values found for column symbol\n",
    "               2. Value 'USD,CHF' which appears two times looks strange, I presume the value should be 'USDCHF'\n",
    "               3. Value 'COFFEE' appears in this column, it looks strange but I am not sure if it is a valid   \n",
    "                  value here as I am lack of business knowledge. But I will list it here.\n",
    "                    \n",
    "     Conclusion: Value 'USD,CHF' is not correct and the comma needs to be removed. For value 'COFFEE', it looks \n",
    "                 a bit strange but as I am lack of the business knwoledge, so just list it here for further \n",
    "                 investigation."
   ]
  },
  {
   "cell_type": "code",
   "execution_count": 21,
   "metadata": {},
   "outputs": [
    {
     "name": "stdout",
     "output_type": "stream",
     "text": [
      "If null value exists on column symbol: False\n"
     ]
    }
   ],
   "source": [
    "# Check if null values exist on column symbol\n",
    "ifNullExistsOnSymbol = trades['symbol'].isnull().any();\n",
    "print('If null value exists on column symbol: ' + str(ifNullExistsOnSymbol))"
   ]
  },
  {
   "cell_type": "code",
   "execution_count": 24,
   "metadata": {},
   "outputs": [
    {
     "data": {
      "text/plain": [
       "array(['EURUSD', 'XAUUSD', 'EURGBP', 'USDJPY', 'GBPCAD', 'EURCHF',\n",
       "       'NZDUSD', 'XTIUSD', 'AUDUSD', 'CADCHF', 'EURCAD', 'AUDNZD',\n",
       "       'XBRUSD', 'XAGUSD', 'NZDJPY', 'USDCHF', 'GBPUSD', 'AUDJPY',\n",
       "       'GBPAUD', 'EURJPY', 'US30', 'GBPJPY', 'USDCAD', 'EURAUD', 'GBPNZD',\n",
       "       'GBPCHF', 'NZDCAD', 'AUDSGD', 'USDSGD', 'CHFJPY', 'AUDCAD',\n",
       "       'EURNZD', 'USDNOK', 'NZDCHF', 'CHCUSD', 'NAS100', 'USIDX', 'GER30',\n",
       "       'COFFEE', 'XPTUSD', 'CADJPY', 'BTCUSD', 'HK50', 'EURSGD', 'AUDCHF',\n",
       "       'EURCNH', 'US500', 'NZDSEK', 'AUDCNH', 'NZDSGD', 'GBPSGD',\n",
       "       'USDZAR', 'JPN225', 'HSCHKD', 'USDSEK', 'USDCNH', 'AUS200',\n",
       "       'FRA40', 'VIX', 'USDMXN', 'SGDJPY', 'UK100', 'USDCZK', 'USD,CHF',\n",
       "       'EURHKD', 'GBPSEK', 'BCHUSD', 'ETHUSD', 'EURNOK', 'USDRUB',\n",
       "       'USDDKK'], dtype=object)"
      ]
     },
     "execution_count": 24,
     "metadata": {},
     "output_type": "execute_result"
    }
   ],
   "source": [
    "# Check strange values for column symbol, check distinct values for column symbol\n",
    "distinctValues = trades['symbol'].unique()\n",
    "distinctValues"
   ]
  },
  {
   "cell_type": "markdown",
   "metadata": {},
   "source": [
    "## (5). Check column digits\n",
    "\n",
    "       Findings: 1. No null values exit for column digits and max value and min value are reasonable.\n",
    "       \n",
    "       Conclusion: No issues found for column digits."
   ]
  },
  {
   "cell_type": "code",
   "execution_count": 25,
   "metadata": {},
   "outputs": [
    {
     "name": "stdout",
     "output_type": "stream",
     "text": [
      "If null value exists on column digits: False\n"
     ]
    }
   ],
   "source": [
    "# Check if null values exist on column digits\n",
    "ifNullExistsOnDigits = trades['digits'].isnull().any();\n",
    "print('If null value exists on column digits: ' + str(ifNullExistsOnDigits))"
   ]
  },
  {
   "cell_type": "code",
   "execution_count": 26,
   "metadata": {},
   "outputs": [
    {
     "name": "stdout",
     "output_type": "stream",
     "text": [
      "Minimal value of digits is: 0\n",
      "Maximal value of digits is: 5\n"
     ]
    }
   ],
   "source": [
    "# Check minimal and maximal value on column digits\n",
    "minValueDigits = trades['digits'].min()\n",
    "maxValueDigits = trades['digits'].max()\n",
    "print('Minimal value of digits is: ' + str(minValueDigits))\n",
    "print('Maximal value of digits is: ' + str(maxValueDigits))"
   ]
  },
  {
   "cell_type": "markdown",
   "metadata": {},
   "source": [
    "## (6). Check column cmd\n",
    "\n",
    "       Findings: 1. No null values exist on column cmd. Distinct values 0 and 1 which are reasonable.\n",
    "       \n",
    "       Conclusion: No issues found on column cmd."
   ]
  },
  {
   "cell_type": "code",
   "execution_count": 27,
   "metadata": {},
   "outputs": [
    {
     "name": "stdout",
     "output_type": "stream",
     "text": [
      "If null value exists on column cmd: False\n"
     ]
    }
   ],
   "source": [
    "# Check if null values exist on column cmd\n",
    "ifNullExistsOnCmd = trades['cmd'].isnull().any();\n",
    "print('If null value exists on column cmd: ' + str(ifNullExistsOnCmd))"
   ]
  },
  {
   "cell_type": "code",
   "execution_count": 28,
   "metadata": {},
   "outputs": [
    {
     "data": {
      "text/plain": [
       "array([1, 0])"
      ]
     },
     "execution_count": 28,
     "metadata": {},
     "output_type": "execute_result"
    }
   ],
   "source": [
    "# Check strange values for column cmd, check distinct values for column cmd\n",
    "distinctValues = trades['cmd'].unique()\n",
    "distinctValues"
   ]
  },
  {
   "cell_type": "markdown",
   "metadata": {},
   "source": [
    "## (7). Check column volume\n",
    "\n",
    "       Findings: 1. No null values found on column volume.\n",
    "                 2. Minimum value of column volume is 0 that appears one time. It looks strange to me.\n",
    "                 \n",
    "       Conclusion: Value 0 happens one time on column volume which seems strange. Need further investigation\n",
    "                   with business knowledge."
   ]
  },
  {
   "cell_type": "code",
   "execution_count": 29,
   "metadata": {},
   "outputs": [
    {
     "name": "stdout",
     "output_type": "stream",
     "text": [
      "If null value exists on column volume: False\n"
     ]
    }
   ],
   "source": [
    "# Check if null values exist on column volume\n",
    "ifNullExistsOnVolume = trades['volume'].isnull().any();\n",
    "print('If null value exists on column volume: ' + str(ifNullExistsOnVolume))"
   ]
  },
  {
   "cell_type": "code",
   "execution_count": 30,
   "metadata": {},
   "outputs": [
    {
     "name": "stdout",
     "output_type": "stream",
     "text": [
      "Minimal value of volume is: 0\n",
      "Maximal value of volume is: 10000\n"
     ]
    }
   ],
   "source": [
    "# Check minimal and maximal value on column volume\n",
    "minValueVolume = trades['volume'].min()\n",
    "maxValueVolume = trades['volume'].max()\n",
    "print('Minimal value of volume is: ' + str(minValueVolume))\n",
    "print('Maximal value of volume is: ' + str(maxValueVolume))"
   ]
  },
  {
   "cell_type": "markdown",
   "metadata": {},
   "source": [
    "## (8). Check column open_time\n",
    "\n",
    "       Findings: 1. No null values exist on column open_time.\n",
    "                 2. Minimal and maximal value are 2020-08-03 and 2020-08-31 which are reasonable.\n",
    "               \n",
    "       Conclusion: No issues found on column open_time."
   ]
  },
  {
   "cell_type": "code",
   "execution_count": 31,
   "metadata": {},
   "outputs": [
    {
     "name": "stdout",
     "output_type": "stream",
     "text": [
      "Minimal value of open_time is: 2020-08-03\n",
      "Maximal value of open_time is: 2020-08-31\n"
     ]
    }
   ],
   "source": [
    "# Check minimal and maximal value on column open_time\n",
    "minValueOpenTime = trades['open_time'].dt.date.min()\n",
    "maxValueOpenTime = trades['open_time'].dt.date.max()\n",
    "print('Minimal value of open_time is: ' + str(minValueOpenTime))\n",
    "print('Maximal value of open_time is: ' + str(maxValueOpenTime))"
   ]
  },
  {
   "cell_type": "code",
   "execution_count": 32,
   "metadata": {},
   "outputs": [
    {
     "name": "stdout",
     "output_type": "stream",
     "text": [
      "If null value exists on column open_time: False\n"
     ]
    }
   ],
   "source": [
    "# Check if null values exist on column open_time\n",
    "ifNullExistsOnOpenTime = trades['open_time'].isnull().any();\n",
    "print('If null value exists on column open_time: ' + str(ifNullExistsOnOpenTime))"
   ]
  },
  {
   "cell_type": "markdown",
   "metadata": {},
   "source": [
    "## (9). Check column open_price\n",
    "\n",
    "      Findings: 1. No null values found on column open_price.\n",
    "                2. No strange values found on column open_price (I presume values less than 1 is reasonable).\n",
    "            \n",
    "      Conclusion: No issues found on column open_price."
   ]
  },
  {
   "cell_type": "code",
   "execution_count": 33,
   "metadata": {},
   "outputs": [
    {
     "name": "stdout",
     "output_type": "stream",
     "text": [
      "If null value exists on column open_price: False\n"
     ]
    }
   ],
   "source": [
    "# Check if null values exist on column open_price\n",
    "ifNullExistsOnOpenPrice = trades['open_price'].isnull().any();\n",
    "print('If null value exists on column open_price: ' + str(ifNullExistsOnOpenPrice))"
   ]
  },
  {
   "cell_type": "code",
   "execution_count": 34,
   "metadata": {},
   "outputs": [
    {
     "name": "stdout",
     "output_type": "stream",
     "text": [
      "Minimal value of open_price is: 0.59167\n",
      "Maximal value of open_price is: 28795.0\n"
     ]
    }
   ],
   "source": [
    "# Check minimal and maximal value on column open_price\n",
    "minValueOpenPrice = trades['open_price'].min()\n",
    "maxValueOpenPrice = trades['open_price'].max()\n",
    "print('Minimal value of open_price is: ' + str(minValueOpenPrice))\n",
    "print('Maximal value of open_price is: ' + str(maxValueOpenPrice))"
   ]
  },
  {
   "cell_type": "markdown",
   "metadata": {},
   "source": [
    "## (10). Check column close_time\n",
    "\n",
    "        Findings: 1. No null values exist on column close_time.\n",
    "                  2. There are 36 trades where close time equals open time. I presume it is a bit strange.\n",
    "                  3. Maximal close time is 2022-08-18, while maximal open time is 2020-08-31. I found 4780 \n",
    "                     trades are closed in 2022 which take too long. I presume this might be interesting.\n",
    "                 \n",
    "        Conclusion: Found 36 trades of which the close time equals the open time. 4780 trades that are opened in \n",
    "                    2020 are closed in 2022. These long-duration trades might need to be investigated."
   ]
  },
  {
   "cell_type": "code",
   "execution_count": 36,
   "metadata": {},
   "outputs": [
    {
     "name": "stdout",
     "output_type": "stream",
     "text": [
      "If null value exists on column close_time: False\n"
     ]
    }
   ],
   "source": [
    "# Check if null values exist on column close_time\n",
    "ifNullExistsOnCloseTime = trades['close_time'].isnull().any();\n",
    "print('If null value exists on column close_time: ' + str(ifNullExistsOnCloseTime))"
   ]
  },
  {
   "cell_type": "code",
   "execution_count": 39,
   "metadata": {},
   "outputs": [
    {
     "data": {
      "text/plain": [
       "(36, 11)"
      ]
     },
     "execution_count": 39,
     "metadata": {},
     "output_type": "execute_result"
    }
   ],
   "source": [
    "# Check if close time equals open time\n",
    "sub_df = trades[trades['close_time'] == trades['open_time']]\n",
    "sub_df.shape"
   ]
  },
  {
   "cell_type": "code",
   "execution_count": 40,
   "metadata": {},
   "outputs": [
    {
     "name": "stdout",
     "output_type": "stream",
     "text": [
      "Minimal value of close_time is: 2020-08-03\n",
      "Maximal value of close_time is: 2022-08-18\n"
     ]
    }
   ],
   "source": [
    "# Check minimal and maximal value on column close_time\n",
    "minValueCloseTime = trades['close_time'].dt.date.min()\n",
    "maxValueCloseTime = trades['close_time'].dt.date.max()\n",
    "print('Minimal value of close_time is: ' + str(minValueCloseTime))\n",
    "print('Maximal value of close_time is: ' + str(maxValueCloseTime))"
   ]
  },
  {
   "cell_type": "markdown",
   "metadata": {},
   "source": [
    "## (11). Check column contractsize\n",
    "\n",
    "        Findings: 1. Null values appear 7 times on column contractsize. \n",
    "        \n",
    "        Conclusion: I presume null value shouldn't appear on column contractsize, this needs to be investigated."
   ]
  },
  {
   "cell_type": "code",
   "execution_count": 41,
   "metadata": {},
   "outputs": [
    {
     "name": "stdout",
     "output_type": "stream",
     "text": [
      "If null value exists on column contractsize: True\n"
     ]
    }
   ],
   "source": [
    "# Check if null values exist on column contractsize\n",
    "ifNullExistsOnContractSize = trades['contractsize'].isnull().any();\n",
    "print('If null value exists on column contractsize: ' + str(ifNullExistsOnContractSize))"
   ]
  },
  {
   "cell_type": "code",
   "execution_count": 42,
   "metadata": {},
   "outputs": [
    {
     "name": "stdout",
     "output_type": "stream",
     "text": [
      "Minimal value of contractsize is: 1.0\n",
      "Maximal value of contractsize is: 100000.0\n"
     ]
    }
   ],
   "source": [
    "# Check minimal and maximal value on column contractsize\n",
    "minValueContractSize = trades['contractsize'].min()\n",
    "maxValueContractSize = trades['contractsize'].max()\n",
    "print('Minimal value of contractsize is: ' + str(minValueContractSize))\n",
    "print('Maximal value of contractsize is: ' + str(maxValueContractSize))"
   ]
  },
  {
   "cell_type": "markdown",
   "metadata": {},
   "source": [
    "# 2. Check table users"
   ]
  },
  {
   "cell_type": "code",
   "execution_count": 43,
   "metadata": {},
   "outputs": [
    {
     "name": "stdout",
     "output_type": "stream",
     "text": [
      "close connection\n"
     ]
    },
    {
     "data": {
      "text/html": [
       "<div>\n",
       "<style scoped>\n",
       "    .dataframe tbody tr th:only-of-type {\n",
       "        vertical-align: middle;\n",
       "    }\n",
       "\n",
       "    .dataframe tbody tr th {\n",
       "        vertical-align: top;\n",
       "    }\n",
       "\n",
       "    .dataframe thead th {\n",
       "        text-align: right;\n",
       "    }\n",
       "</style>\n",
       "<table border=\"1\" class=\"dataframe\">\n",
       "  <thead>\n",
       "    <tr style=\"text-align: right;\">\n",
       "      <th></th>\n",
       "      <th>login_hash</th>\n",
       "      <th>server_hash</th>\n",
       "      <th>country_hash</th>\n",
       "      <th>currency</th>\n",
       "      <th>enable</th>\n",
       "    </tr>\n",
       "  </thead>\n",
       "  <tbody>\n",
       "    <tr>\n",
       "      <th>0</th>\n",
       "      <td>03A15F382AF3D505592CA69EFD4DC431</td>\n",
       "      <td>76791A893BDB9A68E8EE44898D581A60</td>\n",
       "      <td>AE54A5C026F31ADA088992587D92CB3A</td>\n",
       "      <td>USD</td>\n",
       "      <td>1</td>\n",
       "    </tr>\n",
       "    <tr>\n",
       "      <th>1</th>\n",
       "      <td>F8ADF5FF9840712CE2AF7FA9EA2A3FA7</td>\n",
       "      <td>76791A893BDB9A68E8EE44898D581A60</td>\n",
       "      <td>AE54A5C026F31ADA088992587D92CB3A</td>\n",
       "      <td>USD</td>\n",
       "      <td>1</td>\n",
       "    </tr>\n",
       "    <tr>\n",
       "      <th>2</th>\n",
       "      <td>B78CD788AB20A5D61CB13BD5389CABB3</td>\n",
       "      <td>76791A893BDB9A68E8EE44898D581A60</td>\n",
       "      <td>AE54A5C026F31ADA088992587D92CB3A</td>\n",
       "      <td>USD</td>\n",
       "      <td>1</td>\n",
       "    </tr>\n",
       "    <tr>\n",
       "      <th>3</th>\n",
       "      <td>DEFB729116227EF8582BFEC65F998489</td>\n",
       "      <td>76791A893BDB9A68E8EE44898D581A60</td>\n",
       "      <td>103357E3E40A9C0E4E9D36110F7BBC7A</td>\n",
       "      <td>USD</td>\n",
       "      <td>1</td>\n",
       "    </tr>\n",
       "    <tr>\n",
       "      <th>4</th>\n",
       "      <td>9EAD9A73AA6C93823C56BB8C2E798B45</td>\n",
       "      <td>76791A893BDB9A68E8EE44898D581A60</td>\n",
       "      <td>AE54A5C026F31ADA088992587D92CB3A</td>\n",
       "      <td>USD</td>\n",
       "      <td>1</td>\n",
       "    </tr>\n",
       "  </tbody>\n",
       "</table>\n",
       "</div>"
      ],
      "text/plain": [
       "                         login_hash                       server_hash  \\\n",
       "0  03A15F382AF3D505592CA69EFD4DC431  76791A893BDB9A68E8EE44898D581A60   \n",
       "1  F8ADF5FF9840712CE2AF7FA9EA2A3FA7  76791A893BDB9A68E8EE44898D581A60   \n",
       "2  B78CD788AB20A5D61CB13BD5389CABB3  76791A893BDB9A68E8EE44898D581A60   \n",
       "3  DEFB729116227EF8582BFEC65F998489  76791A893BDB9A68E8EE44898D581A60   \n",
       "4  9EAD9A73AA6C93823C56BB8C2E798B45  76791A893BDB9A68E8EE44898D581A60   \n",
       "\n",
       "                       country_hash currency  enable  \n",
       "0  AE54A5C026F31ADA088992587D92CB3A      USD       1  \n",
       "1  AE54A5C026F31ADA088992587D92CB3A      USD       1  \n",
       "2  AE54A5C026F31ADA088992587D92CB3A      USD       1  \n",
       "3  103357E3E40A9C0E4E9D36110F7BBC7A      USD       1  \n",
       "4  AE54A5C026F31ADA088992587D92CB3A      USD       1  "
      ]
     },
     "execution_count": 43,
     "metadata": {},
     "output_type": "execute_result"
    }
   ],
   "source": [
    "params={\n",
    "        'database': 'technical_test',\n",
    "        'user': 'candidate',\n",
    "        'password': 'NW337AkNQH76veGc',\n",
    "        'host': 'technical-test-1.cncti7m4kr9f.ap-south-1.rds.amazonaws.com',\n",
    "        'port': 5432\n",
    "}\n",
    "conn = psycopg2.connect(**params)\n",
    "cursor = conn.cursor()\n",
    "users = pd.read_sql_query('SELECT * FROM users', conn)\n",
    "    \n",
    "conn.close()\n",
    "print('close connection')\n",
    "users.head()"
   ]
  },
  {
   "cell_type": "markdown",
   "metadata": {},
   "source": [
    "## (1). For column login_hash\n",
    "\n",
    "        Findings: 1. No null values found on column login_hash. All values have the same length of 32.\n",
    "        \n",
    "        Conclusion: No issues found on this column."
   ]
  },
  {
   "cell_type": "code",
   "execution_count": 44,
   "metadata": {},
   "outputs": [
    {
     "name": "stdout",
     "output_type": "stream",
     "text": [
      "Minimal length of login_hash is: 32\n",
      "Maximal length of login_hash is: 32\n"
     ]
    }
   ],
   "source": [
    "# Check minimum length and maximal length of value for column login_hash\n",
    "min_length_login_hash = users['login_hash'].str.len().min()\n",
    "max_length_login_hash = users['login_hash'].str.len().max()\n",
    "print('Minimal length of login_hash is: ' + str(min_length_login_hash))\n",
    "print('Maximal length of login_hash is: ' + str(max_length_login_hash))"
   ]
  },
  {
   "cell_type": "code",
   "execution_count": 45,
   "metadata": {},
   "outputs": [
    {
     "name": "stdout",
     "output_type": "stream",
     "text": [
      "If null value exists on column login_hash: False\n"
     ]
    }
   ],
   "source": [
    "# Check if null value exists on column login_hash\n",
    "ifNullExistsOnLogin_hash = users['login_hash'].isnull().any();\n",
    "print('If null value exists on column login_hash: ' + str(ifNullExistsOnLogin_hash))"
   ]
  },
  {
   "cell_type": "markdown",
   "metadata": {},
   "source": [
    "## (2). For column server_hash\n",
    "\n",
    "      Findings: 1. No null values found on column server_hash. All values have the same length of 32.\n",
    "      \n",
    "      Conclusion: No issues found on this column"
   ]
  },
  {
   "cell_type": "code",
   "execution_count": 46,
   "metadata": {},
   "outputs": [
    {
     "name": "stdout",
     "output_type": "stream",
     "text": [
      "Minimal length of server_hash is: 32\n",
      "Maximal length of server_hash is: 32\n"
     ]
    }
   ],
   "source": [
    "# Check minimum length and maximal length of value for column server_hash\n",
    "min_length_server_hash = users['server_hash'].str.len().min()\n",
    "max_length_server_hash = users['server_hash'].str.len().max()\n",
    "print('Minimal length of server_hash is: ' + str(min_length_server_hash))\n",
    "print('Maximal length of server_hash is: ' + str(max_length_server_hash))"
   ]
  },
  {
   "cell_type": "code",
   "execution_count": 47,
   "metadata": {},
   "outputs": [
    {
     "name": "stdout",
     "output_type": "stream",
     "text": [
      "If null value exists on column server_hash: False\n"
     ]
    }
   ],
   "source": [
    "# Check if null value exists on column server_hash\n",
    "ifNullExistsOnServer_hash = users['server_hash'].isnull().any();\n",
    "print('If null value exists on column server_hash: ' + str(ifNullExistsOnServer_hash))"
   ]
  },
  {
   "cell_type": "markdown",
   "metadata": {},
   "source": [
    "## (3). For column country_hash\n",
    "\n",
    "       Findings: 1. No null values found on column country_hash. All values have the same length of 32.\n",
    "       \n",
    "       Conclusion: No issues found on this column."
   ]
  },
  {
   "cell_type": "code",
   "execution_count": 48,
   "metadata": {},
   "outputs": [
    {
     "name": "stdout",
     "output_type": "stream",
     "text": [
      "Minimal length of country_hash is: 32\n",
      "Maximal length of country_hash is: 32\n"
     ]
    }
   ],
   "source": [
    "# Check minimum length and maximal length of value for column country_hash\n",
    "min_length_country_hash = users['country_hash'].str.len().min()\n",
    "max_length_country_hash = users['country_hash'].str.len().max()\n",
    "print('Minimal length of country_hash is: ' + str(min_length_country_hash))\n",
    "print('Maximal length of country_hash is: ' + str(max_length_country_hash))"
   ]
  },
  {
   "cell_type": "code",
   "execution_count": 49,
   "metadata": {},
   "outputs": [
    {
     "name": "stdout",
     "output_type": "stream",
     "text": [
      "If null value exists on column country_hash: False\n"
     ]
    }
   ],
   "source": [
    "# Check if null value exists on column country_hash\n",
    "ifNullExistsOnCountry_hash = users['country_hash'].isnull().any();\n",
    "print('If null value exists on column country_hash: ' + str(ifNullExistsOnCountry_hash))"
   ]
  },
  {
   "cell_type": "markdown",
   "metadata": {},
   "source": [
    "## (4). For column currency\n",
    "\n",
    "      Findings: 1. No null value exists on column currency. No strange values found on this column.\n",
    "      \n",
    "      Conclusion: No issues found on this column."
   ]
  },
  {
   "cell_type": "code",
   "execution_count": 50,
   "metadata": {},
   "outputs": [
    {
     "data": {
      "text/plain": [
       "array(['USD', 'AUD', 'EUR', 'NZD'], dtype=object)"
      ]
     },
     "execution_count": 50,
     "metadata": {},
     "output_type": "execute_result"
    }
   ],
   "source": [
    "# Check strange values for column currency, check distinct values for column currency\n",
    "distinctValues = users['currency'].unique()\n",
    "distinctValues"
   ]
  },
  {
   "cell_type": "code",
   "execution_count": 51,
   "metadata": {},
   "outputs": [
    {
     "name": "stdout",
     "output_type": "stream",
     "text": [
      "If null value exists on column currency: False\n"
     ]
    }
   ],
   "source": [
    "# Check if null value exists on column currency\n",
    "ifNullExistsOnCurrency = users['currency'].isnull().any();\n",
    "print('If null value exists on column currency: ' + str(ifNullExistsOnCurrency))"
   ]
  },
  {
   "cell_type": "markdown",
   "metadata": {},
   "source": [
    "## (5). For column enable\n",
    "\n",
    "       Findings: 1. No null values exist on column enable. No strange values found on this column.\n",
    "       \n",
    "       Conclusion: No issues found on this column."
   ]
  },
  {
   "cell_type": "code",
   "execution_count": 52,
   "metadata": {},
   "outputs": [
    {
     "data": {
      "text/plain": [
       "array([1, 0])"
      ]
     },
     "execution_count": 52,
     "metadata": {},
     "output_type": "execute_result"
    }
   ],
   "source": [
    "# Check strange values for column enable, check distinct values for column enable\n",
    "distinctValues = users['enable'].unique()\n",
    "distinctValues"
   ]
  },
  {
   "cell_type": "code",
   "execution_count": 53,
   "metadata": {},
   "outputs": [
    {
     "name": "stdout",
     "output_type": "stream",
     "text": [
      "If null value exists on column enable: False\n"
     ]
    }
   ],
   "source": [
    "# Check if null value exists on column enable\n",
    "ifNullExistsOnEnable = users['enable'].isnull().any();\n",
    "print('If null value exists on column enable: ' + str(ifNullExistsOnEnable))"
   ]
  },
  {
   "cell_type": "code",
   "execution_count": null,
   "metadata": {},
   "outputs": [],
   "source": []
  }
 ],
 "metadata": {
  "kernelspec": {
   "display_name": "Python 3",
   "language": "python",
   "name": "python3"
  },
  "language_info": {
   "codemirror_mode": {
    "name": "ipython",
    "version": 3
   },
   "file_extension": ".py",
   "mimetype": "text/x-python",
   "name": "python",
   "nbconvert_exporter": "python",
   "pygments_lexer": "ipython3",
   "version": "3.7.2"
  }
 },
 "nbformat": 4,
 "nbformat_minor": 4
}
